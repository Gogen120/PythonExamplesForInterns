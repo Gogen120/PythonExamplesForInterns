{
  "nbformat": 4,
  "nbformat_minor": 0,
  "metadata": {
    "colab": {
      "name": "Python.ipynb",
      "version": "0.3.2",
      "provenance": []
    },
    "language_info": {
      "codemirror_mode": {
        "name": "ipython",
        "version": 3
      },
      "file_extension": ".py",
      "mimetype": "text/x-python",
      "name": "python",
      "nbconvert_exporter": "python",
      "pygments_lexer": "ipython3",
      "version": "3.7.3"
    },
    "kernelspec": {
      "display_name": "Python 3",
      "language": "python",
      "name": "python3"
    }
  },
  "cells": [
    {
      "metadata": {
        "id": "6T_pxR2ZbJRa",
        "colab_type": "text"
      },
      "cell_type": "markdown",
      "source": [
        "## Объектная структура в Python"
      ]
    },
    {
      "metadata": {
        "id": "E3CXmecYbJRe",
        "colab_type": "code",
        "colab": {}
      },
      "cell_type": "code",
      "source": [
        "n = 14"
      ],
      "execution_count": 0,
      "outputs": []
    },
    {
      "metadata": {
        "id": "lYUhpHhDbJRn",
        "colab_type": "code",
        "colab": {},
        "outputId": "8d648dfc-72b4-4e4d-9755-5700a8c58c0f"
      },
      "cell_type": "code",
      "source": [
        "type(n)"
      ],
      "execution_count": 0,
      "outputs": [
        {
          "output_type": "execute_result",
          "data": {
            "text/plain": [
              "int"
            ]
          },
          "metadata": {
            "tags": []
          },
          "execution_count": 20
        }
      ]
    },
    {
      "metadata": {
        "id": "zojBx13xbJRv",
        "colab_type": "code",
        "colab": {},
        "outputId": "31a0cd76-8e18-4b43-c122-28499c9113f8"
      },
      "cell_type": "code",
      "source": [
        "n.__add__(14)"
      ],
      "execution_count": 0,
      "outputs": [
        {
          "output_type": "execute_result",
          "data": {
            "text/plain": [
              "28"
            ]
          },
          "metadata": {
            "tags": []
          },
          "execution_count": 21
        }
      ]
    },
    {
      "metadata": {
        "id": "QLBJsl3-bJR2",
        "colab_type": "code",
        "colab": {},
        "outputId": "7dbaaf81-2d4b-4313-d471-47e07bdb2c4d"
      },
      "cell_type": "code",
      "source": [
        "dir(n)"
      ],
      "execution_count": 0,
      "outputs": [
        {
          "output_type": "execute_result",
          "data": {
            "text/plain": [
              "['__abs__',\n",
              " '__add__',\n",
              " '__and__',\n",
              " '__bool__',\n",
              " '__ceil__',\n",
              " '__class__',\n",
              " '__delattr__',\n",
              " '__dir__',\n",
              " '__divmod__',\n",
              " '__doc__',\n",
              " '__eq__',\n",
              " '__float__',\n",
              " '__floor__',\n",
              " '__floordiv__',\n",
              " '__format__',\n",
              " '__ge__',\n",
              " '__getattribute__',\n",
              " '__getnewargs__',\n",
              " '__gt__',\n",
              " '__hash__',\n",
              " '__index__',\n",
              " '__init__',\n",
              " '__init_subclass__',\n",
              " '__int__',\n",
              " '__invert__',\n",
              " '__le__',\n",
              " '__lshift__',\n",
              " '__lt__',\n",
              " '__mod__',\n",
              " '__mul__',\n",
              " '__ne__',\n",
              " '__neg__',\n",
              " '__new__',\n",
              " '__or__',\n",
              " '__pos__',\n",
              " '__pow__',\n",
              " '__radd__',\n",
              " '__rand__',\n",
              " '__rdivmod__',\n",
              " '__reduce__',\n",
              " '__reduce_ex__',\n",
              " '__repr__',\n",
              " '__rfloordiv__',\n",
              " '__rlshift__',\n",
              " '__rmod__',\n",
              " '__rmul__',\n",
              " '__ror__',\n",
              " '__round__',\n",
              " '__rpow__',\n",
              " '__rrshift__',\n",
              " '__rshift__',\n",
              " '__rsub__',\n",
              " '__rtruediv__',\n",
              " '__rxor__',\n",
              " '__setattr__',\n",
              " '__sizeof__',\n",
              " '__str__',\n",
              " '__sub__',\n",
              " '__subclasshook__',\n",
              " '__truediv__',\n",
              " '__trunc__',\n",
              " '__xor__',\n",
              " 'bit_length',\n",
              " 'conjugate',\n",
              " 'denominator',\n",
              " 'from_bytes',\n",
              " 'imag',\n",
              " 'numerator',\n",
              " 'real',\n",
              " 'to_bytes']"
            ]
          },
          "metadata": {
            "tags": []
          },
          "execution_count": 22
        }
      ]
    },
    {
      "metadata": {
        "id": "fT7ekHSPbJR8",
        "colab_type": "code",
        "colab": {}
      },
      "cell_type": "code",
      "source": [
        ""
      ],
      "execution_count": 0,
      "outputs": []
    },
    {
      "metadata": {
        "id": "jIMzVQRwbJSA",
        "colab_type": "code",
        "colab": {}
      },
      "cell_type": "code",
      "source": [
        ""
      ],
      "execution_count": 0,
      "outputs": []
    },
    {
      "metadata": {
        "id": "9qoMMOd0bJSF",
        "colab_type": "code",
        "colab": {}
      },
      "cell_type": "code",
      "source": [
        ""
      ],
      "execution_count": 0,
      "outputs": []
    },
    {
      "metadata": {
        "id": "C9RWZ9YIbJSJ",
        "colab_type": "code",
        "colab": {}
      },
      "cell_type": "code",
      "source": [
        ""
      ],
      "execution_count": 0,
      "outputs": []
    },
    {
      "metadata": {
        "id": "veZmv7LEbJSP",
        "colab_type": "code",
        "colab": {}
      },
      "cell_type": "code",
      "source": [
        ""
      ],
      "execution_count": 0,
      "outputs": []
    },
    {
      "metadata": {
        "id": "Vts4A9AHbJSW",
        "colab_type": "code",
        "colab": {}
      },
      "cell_type": "code",
      "source": [
        ""
      ],
      "execution_count": 0,
      "outputs": []
    },
    {
      "metadata": {
        "id": "FOYyqa03bJSa",
        "colab_type": "text"
      },
      "cell_type": "markdown",
      "source": [
        "## Функциональное программирование в Python"
      ]
    },
    {
      "metadata": {
        "id": "4hF4_N0EbJSb",
        "colab_type": "code",
        "colab": {},
        "outputId": "d5936029-0f0c-4a6c-bc51-ba4a980cd1c1"
      },
      "cell_type": "code",
      "source": [
        "list(map(lambda x: x ** 2, range(10)))"
      ],
      "execution_count": 0,
      "outputs": [
        {
          "output_type": "execute_result",
          "data": {
            "text/plain": [
              "[0, 1, 4, 9, 16, 25, 36, 49, 64, 81]"
            ]
          },
          "metadata": {
            "tags": []
          },
          "execution_count": 23
        }
      ]
    },
    {
      "metadata": {
        "id": "1UHBZy4zbJSh",
        "colab_type": "code",
        "colab": {},
        "outputId": "9e0977bf-9d4e-4cf9-89fa-d818c65d79fc"
      },
      "cell_type": "code",
      "source": [
        "list(filter(lambda x: x % 2 == 0, range(10)))"
      ],
      "execution_count": 0,
      "outputs": [
        {
          "output_type": "execute_result",
          "data": {
            "text/plain": [
              "[0, 2, 4, 6, 8]"
            ]
          },
          "metadata": {
            "tags": []
          },
          "execution_count": 24
        }
      ]
    },
    {
      "metadata": {
        "id": "97aMo5lSbJSn",
        "colab_type": "code",
        "colab": {},
        "outputId": "ae51a150-49f4-47f0-903b-8b192cdeeaf2"
      },
      "cell_type": "code",
      "source": [
        "list(map(lambda x: x ** 2, filter(lambda x: x % 2 == 0, range(10))))"
      ],
      "execution_count": 0,
      "outputs": [
        {
          "output_type": "execute_result",
          "data": {
            "text/plain": [
              "[0, 4, 16, 36, 64]"
            ]
          },
          "metadata": {
            "tags": []
          },
          "execution_count": 25
        }
      ]
    },
    {
      "metadata": {
        "id": "iKQfAr5pbJSr",
        "colab_type": "code",
        "colab": {}
      },
      "cell_type": "code",
      "source": [
        "from functools import reduce"
      ],
      "execution_count": 0,
      "outputs": []
    },
    {
      "metadata": {
        "id": "C71T9N9fbJSt",
        "colab_type": "code",
        "colab": {},
        "outputId": "6ad081e6-3daa-4281-d177-8611344e93e7"
      },
      "cell_type": "code",
      "source": [
        "reduce(lambda x, y: x * y, range(1, 6))"
      ],
      "execution_count": 0,
      "outputs": [
        {
          "output_type": "execute_result",
          "data": {
            "text/plain": [
              "120"
            ]
          },
          "metadata": {
            "tags": []
          },
          "execution_count": 27
        }
      ]
    },
    {
      "metadata": {
        "id": "u5urIHAzbJSz",
        "colab_type": "code",
        "colab": {}
      },
      "cell_type": "code",
      "source": [
        ""
      ],
      "execution_count": 0,
      "outputs": []
    },
    {
      "metadata": {
        "id": "fdPm71pObJS3",
        "colab_type": "code",
        "colab": {}
      },
      "cell_type": "code",
      "source": [
        ""
      ],
      "execution_count": 0,
      "outputs": []
    },
    {
      "metadata": {
        "id": "cVlL5a7rbJS_",
        "colab_type": "text"
      },
      "cell_type": "markdown",
      "source": [
        "### Comprehensions"
      ]
    },
    {
      "metadata": {
        "id": "kWTYhO-AbJTB",
        "colab_type": "code",
        "colab": {},
        "outputId": "cbcb8bde-ffb6-4bdf-bfde-2f21064defb0"
      },
      "cell_type": "code",
      "source": [
        "[x ** 2 for x in range(10)]"
      ],
      "execution_count": 0,
      "outputs": [
        {
          "output_type": "execute_result",
          "data": {
            "text/plain": [
              "[0, 1, 4, 9, 16, 25, 36, 49, 64, 81]"
            ]
          },
          "metadata": {
            "tags": []
          },
          "execution_count": 28
        }
      ]
    },
    {
      "metadata": {
        "id": "yRt4Vn3WbJTH",
        "colab_type": "code",
        "colab": {},
        "outputId": "ed93704d-252d-43b2-f8d5-d3e71517abcb"
      },
      "cell_type": "code",
      "source": [
        "[x for x in range(10) if x % 2 == 0]"
      ],
      "execution_count": 0,
      "outputs": [
        {
          "output_type": "execute_result",
          "data": {
            "text/plain": [
              "[0, 2, 4, 6, 8]"
            ]
          },
          "metadata": {
            "tags": []
          },
          "execution_count": 29
        }
      ]
    },
    {
      "metadata": {
        "id": "jpCojmJObJTN",
        "colab_type": "code",
        "colab": {},
        "outputId": "d61f9a4b-cfb6-419f-cff2-e24fccb92ab7"
      },
      "cell_type": "code",
      "source": [
        "[x ** 2 for x in range(10) if x % 2 == 0]"
      ],
      "execution_count": 0,
      "outputs": [
        {
          "output_type": "execute_result",
          "data": {
            "text/plain": [
              "[0, 4, 16, 36, 64]"
            ]
          },
          "metadata": {
            "tags": []
          },
          "execution_count": 30
        }
      ]
    },
    {
      "metadata": {
        "id": "kkCjnoa0bJTT",
        "colab_type": "code",
        "colab": {},
        "outputId": "c0cac0ca-572f-469d-92fa-bdc8b0df9d97"
      },
      "cell_type": "code",
      "source": [
        "# set comprehension\n",
        "{bool(x) for x in range(10)}"
      ],
      "execution_count": 0,
      "outputs": [
        {
          "output_type": "execute_result",
          "data": {
            "text/plain": [
              "{False, True}"
            ]
          },
          "metadata": {
            "tags": []
          },
          "execution_count": 31
        }
      ]
    },
    {
      "metadata": {
        "id": "8_hTFi32bJTa",
        "colab_type": "code",
        "colab": {},
        "outputId": "18a6fd21-7298-4ff2-c6dd-c3667be1ecee"
      },
      "cell_type": "code",
      "source": [
        "# dict comprehension\n",
        "{key: value for key, value in zip(('a', 'b', 'c'), (1, 2, 4))}"
      ],
      "execution_count": 0,
      "outputs": [
        {
          "output_type": "execute_result",
          "data": {
            "text/plain": [
              "{'a': 1, 'b': 2, 'c': 4}"
            ]
          },
          "metadata": {
            "tags": []
          },
          "execution_count": 32
        }
      ]
    },
    {
      "metadata": {
        "id": "24B1V_lubJTe",
        "colab_type": "code",
        "colab": {},
        "outputId": "f9a6c56c-7e28-4a17-845e-1a69b0c5f582"
      },
      "cell_type": "code",
      "source": [
        "# generator comprehension\n",
        "(x ** 2 for x in range(10))"
      ],
      "execution_count": 0,
      "outputs": [
        {
          "output_type": "execute_result",
          "data": {
            "text/plain": [
              "<generator object <genexpr> at 0x0000026EBAD781B0>"
            ]
          },
          "metadata": {
            "tags": []
          },
          "execution_count": 33
        }
      ]
    },
    {
      "metadata": {
        "id": "Xa08l9C8bJTh",
        "colab_type": "text"
      },
      "cell_type": "markdown",
      "source": [
        "## Декораторы"
      ]
    },
    {
      "metadata": {
        "id": "atC4P7vRbJTi",
        "colab_type": "code",
        "colab": {},
        "outputId": "034e6923-8591-47bf-e63e-0e9230def83c"
      },
      "cell_type": "code",
      "source": [
        "from typing import List\n",
        "\n",
        "\n",
        "def decorator(func):\n",
        "    def wrapped(*args, **kwargs):\n",
        "        print('I am inside decorator')\n",
        "        return func(*args, **kwargs)\n",
        "    return wrapped\n",
        "\n",
        "\n",
        "@decorator\n",
        "def summator(numbers: List):\n",
        "    '''Some doc string'''\n",
        "    return sum(numbers)\n",
        "\n",
        "summator([1, 2, 4])"
      ],
      "execution_count": 0,
      "outputs": [
        {
          "output_type": "stream",
          "text": [
            "I am inside decorator\n"
          ],
          "name": "stdout"
        },
        {
          "output_type": "execute_result",
          "data": {
            "text/plain": [
              "7"
            ]
          },
          "metadata": {
            "tags": []
          },
          "execution_count": 34
        }
      ]
    },
    {
      "metadata": {
        "id": "hgjgOrl0bJTx",
        "colab_type": "code",
        "colab": {},
        "outputId": "43c298a9-07eb-4e3a-a3a7-79283aa47a18"
      },
      "cell_type": "code",
      "source": [
        "summator.__name__"
      ],
      "execution_count": 0,
      "outputs": [
        {
          "output_type": "execute_result",
          "data": {
            "text/plain": [
              "'wrapped'"
            ]
          },
          "metadata": {
            "tags": []
          },
          "execution_count": 35
        }
      ]
    },
    {
      "metadata": {
        "id": "xiauXgp1bJTz",
        "colab_type": "code",
        "colab": {}
      },
      "cell_type": "code",
      "source": [
        "summator.__doc__"
      ],
      "execution_count": 0,
      "outputs": []
    },
    {
      "metadata": {
        "id": "9bUwghWWbJT2",
        "colab_type": "code",
        "colab": {},
        "outputId": "59f283aa-3cd7-49fd-de70-d765de1be97f"
      },
      "cell_type": "code",
      "source": [
        "def summator(numbers: List):\n",
        "    return sum(numbers)\n",
        "\n",
        "decorator(summator)([1, 2, 4])"
      ],
      "execution_count": 0,
      "outputs": [
        {
          "output_type": "stream",
          "text": [
            "I am inside decorator\n"
          ],
          "name": "stdout"
        },
        {
          "output_type": "execute_result",
          "data": {
            "text/plain": [
              "7"
            ]
          },
          "metadata": {
            "tags": []
          },
          "execution_count": 37
        }
      ]
    },
    {
      "metadata": {
        "id": "ys68KuihbJT5",
        "colab_type": "code",
        "colab": {},
        "outputId": "df1a20a0-4d1e-46b4-83b2-0820329fce03"
      },
      "cell_type": "code",
      "source": [
        "from functools import wraps\n",
        "\n",
        "\n",
        "def multiplier(func):\n",
        "    @wraps(func)\n",
        "    def wrapped(*args, **kwargs):\n",
        "        new_args = [arg * 5 for arg in args]\n",
        "        return func(*new_args, **kwargs)\n",
        "    return wrapped\n",
        "\n",
        "\n",
        "@multiplier\n",
        "def summator(numbers: List):\n",
        "    '''Some doc string'''\n",
        "    return sum(numbers)\n",
        "\n",
        "summator([1, 2, 4])"
      ],
      "execution_count": 0,
      "outputs": [
        {
          "output_type": "execute_result",
          "data": {
            "text/plain": [
              "35"
            ]
          },
          "metadata": {
            "tags": []
          },
          "execution_count": 38
        }
      ]
    },
    {
      "metadata": {
        "id": "WbEyYXyqbJT6",
        "colab_type": "code",
        "colab": {},
        "outputId": "41d2eff7-77e2-4664-d20d-6fac4d15e260"
      },
      "cell_type": "code",
      "source": [
        "summator.__name__"
      ],
      "execution_count": 0,
      "outputs": [
        {
          "output_type": "execute_result",
          "data": {
            "text/plain": [
              "'summator'"
            ]
          },
          "metadata": {
            "tags": []
          },
          "execution_count": 39
        }
      ]
    },
    {
      "metadata": {
        "id": "ACv_QxaQbJT-",
        "colab_type": "code",
        "colab": {},
        "outputId": "acb799b3-d083-47b0-a8cd-b6ec16526291"
      },
      "cell_type": "code",
      "source": [
        "summator.__doc__"
      ],
      "execution_count": 0,
      "outputs": [
        {
          "output_type": "execute_result",
          "data": {
            "text/plain": [
              "'Some doc string'"
            ]
          },
          "metadata": {
            "tags": []
          },
          "execution_count": 40
        }
      ]
    },
    {
      "metadata": {
        "id": "3vgYOXU8bJUC",
        "colab_type": "code",
        "colab": {},
        "outputId": "e79907de-735f-4888-ef65-e046902d804f"
      },
      "cell_type": "code",
      "source": [
        "def multiplier_with_param(num: int):\n",
        "    def decorator(func):\n",
        "        def wrapped(*args, **kwargs):\n",
        "            new_args = [arg * num for arg in args]\n",
        "            return func(*new_args, **kwargs)\n",
        "        return wrapped\n",
        "    return decorator\n",
        "\n",
        "\n",
        "@multiplier_with_param(3)\n",
        "def summator(numbers: List):\n",
        "    return sum(numbers)\n",
        "\n",
        "summator([1, 2, 4])"
      ],
      "execution_count": 0,
      "outputs": [
        {
          "output_type": "execute_result",
          "data": {
            "text/plain": [
              "21"
            ]
          },
          "metadata": {
            "tags": []
          },
          "execution_count": 41
        }
      ]
    },
    {
      "metadata": {
        "id": "xlCCZNhRbJUF",
        "colab_type": "text"
      },
      "cell_type": "markdown",
      "source": [
        "## Генераторы"
      ]
    },
    {
      "metadata": {
        "id": "PSJ8lG8obJUG",
        "colab_type": "code",
        "colab": {},
        "outputId": "7726b9c5-3595-4b09-fd37-a8d018d25938"
      },
      "cell_type": "code",
      "source": [
        "def gen_function(a: int):\n",
        "    yield a\n",
        "\n",
        "gen_function(5)"
      ],
      "execution_count": 0,
      "outputs": [
        {
          "output_type": "execute_result",
          "data": {
            "text/plain": [
              "<generator object gen_function at 0x0000026EBAD780C0>"
            ]
          },
          "metadata": {
            "tags": []
          },
          "execution_count": 42
        }
      ]
    },
    {
      "metadata": {
        "id": "GfgpMNwqbJUN",
        "colab_type": "code",
        "colab": {},
        "outputId": "b1dc6170-7313-47d8-ad80-a05d11f813be"
      },
      "cell_type": "code",
      "source": [
        "def gen_range(start, end):\n",
        "    current = start\n",
        "    while current < end:\n",
        "        yield current\n",
        "        current += 1\n",
        "        \n",
        "gen = gen_range(0, 10)\n",
        "\n",
        "print(type(gen))\n",
        "\n",
        "for i in gen:\n",
        "    print(i)"
      ],
      "execution_count": 0,
      "outputs": [
        {
          "output_type": "stream",
          "text": [
            "<class 'generator'>\n",
            "0\n",
            "1\n",
            "2\n",
            "3\n",
            "4\n",
            "5\n",
            "6\n",
            "7\n",
            "8\n",
            "9\n"
          ],
          "name": "stdout"
        }
      ]
    },
    {
      "metadata": {
        "id": "s0qI-njUbJUP",
        "colab_type": "code",
        "colab": {}
      },
      "cell_type": "code",
      "source": [
        "gen = gen_range(0, 3)"
      ],
      "execution_count": 0,
      "outputs": []
    },
    {
      "metadata": {
        "id": "s7dlmsdabJUT",
        "colab_type": "code",
        "colab": {},
        "outputId": "113bc856-0f05-412d-ca86-1367514577b1"
      },
      "cell_type": "code",
      "source": [
        "next(gen)"
      ],
      "execution_count": 0,
      "outputs": [
        {
          "output_type": "execute_result",
          "data": {
            "text/plain": [
              "0"
            ]
          },
          "metadata": {
            "tags": []
          },
          "execution_count": 45
        }
      ]
    },
    {
      "metadata": {
        "id": "sydk-Oo2bJUW",
        "colab_type": "code",
        "colab": {},
        "outputId": "7449ee09-6f36-4fc2-cd9a-c31b6185ea8c"
      },
      "cell_type": "code",
      "source": [
        "next(gen)"
      ],
      "execution_count": 0,
      "outputs": [
        {
          "output_type": "execute_result",
          "data": {
            "text/plain": [
              "1"
            ]
          },
          "metadata": {
            "tags": []
          },
          "execution_count": 46
        }
      ]
    },
    {
      "metadata": {
        "id": "uou2TKk5bJUa",
        "colab_type": "code",
        "colab": {},
        "outputId": "948b1117-f6e2-4199-a5d4-d07c6e033b25"
      },
      "cell_type": "code",
      "source": [
        "next(gen)"
      ],
      "execution_count": 0,
      "outputs": [
        {
          "output_type": "execute_result",
          "data": {
            "text/plain": [
              "2"
            ]
          },
          "metadata": {
            "tags": []
          },
          "execution_count": 47
        }
      ]
    },
    {
      "metadata": {
        "id": "2OCeAftXbJUb",
        "colab_type": "code",
        "colab": {},
        "outputId": "b9e94006-2968-4527-8d09-6b55de2df869"
      },
      "cell_type": "code",
      "source": [
        "next(gen)"
      ],
      "execution_count": 0,
      "outputs": [
        {
          "output_type": "error",
          "ename": "StopIteration",
          "evalue": "",
          "traceback": [
            "\u001b[1;31m---------------------------------------------------------------------------\u001b[0m",
            "\u001b[1;31mStopIteration\u001b[0m                             Traceback (most recent call last)",
            "\u001b[1;32m<ipython-input-48-6e72e47198db>\u001b[0m in \u001b[0;36m<module>\u001b[1;34m\u001b[0m\n\u001b[1;32m----> 1\u001b[1;33m \u001b[0mnext\u001b[0m\u001b[1;33m(\u001b[0m\u001b[0mgen\u001b[0m\u001b[1;33m)\u001b[0m\u001b[1;33m\u001b[0m\u001b[1;33m\u001b[0m\u001b[0m\n\u001b[0m",
            "\u001b[1;31mStopIteration\u001b[0m: "
          ]
        }
      ]
    },
    {
      "metadata": {
        "id": "rDMzhK_BbJUd",
        "colab_type": "code",
        "colab": {}
      },
      "cell_type": "code",
      "source": [
        "def gen_enumerate(iterable, start):\n",
        "    current = start\n",
        "    for item in iterable:\n",
        "        yield item, current\n",
        "        print(f'Yield: {item} with index: {current}')\n",
        "        current += 1"
      ],
      "execution_count": 0,
      "outputs": []
    },
    {
      "metadata": {
        "id": "P2K7rf30bJUf",
        "colab_type": "code",
        "colab": {}
      },
      "cell_type": "code",
      "source": [
        "gen = gen_enumerate(['a', 'b', 'c'], 0)"
      ],
      "execution_count": 0,
      "outputs": []
    },
    {
      "metadata": {
        "id": "UXkrcDx1bJUg",
        "colab_type": "code",
        "colab": {},
        "outputId": "47ece156-8f15-4201-8e90-05c148f88647"
      },
      "cell_type": "code",
      "source": [
        "next(gen)"
      ],
      "execution_count": 0,
      "outputs": [
        {
          "output_type": "execute_result",
          "data": {
            "text/plain": [
              "('a', 0)"
            ]
          },
          "metadata": {
            "tags": []
          },
          "execution_count": 51
        }
      ]
    },
    {
      "metadata": {
        "id": "pNBM3tdobJUj",
        "colab_type": "code",
        "colab": {},
        "outputId": "a21d818a-811a-47a4-b60b-89cf7d212fc3"
      },
      "cell_type": "code",
      "source": [
        "next(gen)"
      ],
      "execution_count": 0,
      "outputs": [
        {
          "output_type": "stream",
          "text": [
            "Yield: a with index: 0\n"
          ],
          "name": "stdout"
        },
        {
          "output_type": "execute_result",
          "data": {
            "text/plain": [
              "('b', 1)"
            ]
          },
          "metadata": {
            "tags": []
          },
          "execution_count": 52
        }
      ]
    },
    {
      "metadata": {
        "id": "HbW8aoqfbJUk",
        "colab_type": "code",
        "colab": {},
        "outputId": "7635c7ab-da9a-46db-eeb0-36262abe12c1"
      },
      "cell_type": "code",
      "source": [
        "next(gen)"
      ],
      "execution_count": 0,
      "outputs": [
        {
          "output_type": "stream",
          "text": [
            "Yield: b with index: 1\n"
          ],
          "name": "stdout"
        },
        {
          "output_type": "execute_result",
          "data": {
            "text/plain": [
              "('c', 2)"
            ]
          },
          "metadata": {
            "tags": []
          },
          "execution_count": 53
        }
      ]
    },
    {
      "metadata": {
        "id": "JGn96hDIbJUl",
        "colab_type": "code",
        "colab": {},
        "outputId": "c3cf0656-af18-4647-89dc-e97e599aed0c"
      },
      "cell_type": "code",
      "source": [
        "next(gen)"
      ],
      "execution_count": 0,
      "outputs": [
        {
          "output_type": "stream",
          "text": [
            "Yield: c with index: 2\n"
          ],
          "name": "stdout"
        },
        {
          "output_type": "error",
          "ename": "StopIteration",
          "evalue": "",
          "traceback": [
            "\u001b[1;31m---------------------------------------------------------------------------\u001b[0m",
            "\u001b[1;31mStopIteration\u001b[0m                             Traceback (most recent call last)",
            "\u001b[1;32m<ipython-input-54-6e72e47198db>\u001b[0m in \u001b[0;36m<module>\u001b[1;34m\u001b[0m\n\u001b[1;32m----> 1\u001b[1;33m \u001b[0mnext\u001b[0m\u001b[1;33m(\u001b[0m\u001b[0mgen\u001b[0m\u001b[1;33m)\u001b[0m\u001b[1;33m\u001b[0m\u001b[1;33m\u001b[0m\u001b[0m\n\u001b[0m",
            "\u001b[1;31mStopIteration\u001b[0m: "
          ]
        }
      ]
    },
    {
      "metadata": {
        "id": "VN3fAO0bbJUo",
        "colab_type": "text"
      },
      "cell_type": "markdown",
      "source": [
        "## Метаклассы"
      ]
    },
    {
      "metadata": {
        "id": "87doboPvbJUo",
        "colab_type": "code",
        "colab": {}
      },
      "cell_type": "code",
      "source": [
        "class Number:\n",
        "    def __init__(self, value):\n",
        "        self.value = value"
      ],
      "execution_count": 0,
      "outputs": []
    },
    {
      "metadata": {
        "id": "YUsXOk9RbJUq",
        "colab_type": "code",
        "colab": {}
      },
      "cell_type": "code",
      "source": [
        "n = Number(10)"
      ],
      "execution_count": 0,
      "outputs": []
    },
    {
      "metadata": {
        "id": "innyRjqTbJUr",
        "colab_type": "code",
        "colab": {},
        "outputId": "e782b8db-42c3-4fad-8f54-8b66b87f264a"
      },
      "cell_type": "code",
      "source": [
        "type(n)"
      ],
      "execution_count": 0,
      "outputs": [
        {
          "output_type": "execute_result",
          "data": {
            "text/plain": [
              "__main__.Number"
            ]
          },
          "metadata": {
            "tags": []
          },
          "execution_count": 57
        }
      ]
    },
    {
      "metadata": {
        "id": "hwcge_pEbJUu",
        "colab_type": "code",
        "colab": {},
        "outputId": "6c5335bd-45c3-4bc0-e79f-9b9acb54e3a6"
      },
      "cell_type": "code",
      "source": [
        "type(Number)"
      ],
      "execution_count": 0,
      "outputs": [
        {
          "output_type": "execute_result",
          "data": {
            "text/plain": [
              "type"
            ]
          },
          "metadata": {
            "tags": []
          },
          "execution_count": 58
        }
      ]
    },
    {
      "metadata": {
        "id": "JsUbgwupbJUz",
        "colab_type": "code",
        "colab": {},
        "outputId": "eae10b48-5420-4b43-8062-88a59ec236dd"
      },
      "cell_type": "code",
      "source": [
        "type(type)"
      ],
      "execution_count": 0,
      "outputs": [
        {
          "output_type": "execute_result",
          "data": {
            "text/plain": [
              "type"
            ]
          },
          "metadata": {
            "tags": []
          },
          "execution_count": 59
        }
      ]
    },
    {
      "metadata": {
        "id": "TSThlHtKbJU2",
        "colab_type": "code",
        "colab": {}
      },
      "cell_type": "code",
      "source": [
        "CustomClass = type('CustomClass', (), {'some_attr': 42})"
      ],
      "execution_count": 0,
      "outputs": []
    },
    {
      "metadata": {
        "id": "sDplup1nbJU3",
        "colab_type": "code",
        "colab": {}
      },
      "cell_type": "code",
      "source": [
        "custom = CustomClass()"
      ],
      "execution_count": 0,
      "outputs": []
    },
    {
      "metadata": {
        "id": "8nI9RKXGbJU4",
        "colab_type": "code",
        "colab": {},
        "outputId": "faccc93e-ccf3-42a0-f1b3-ab43a705d980"
      },
      "cell_type": "code",
      "source": [
        "custom.some_attr"
      ],
      "execution_count": 0,
      "outputs": [
        {
          "output_type": "execute_result",
          "data": {
            "text/plain": [
              "42"
            ]
          },
          "metadata": {
            "tags": []
          },
          "execution_count": 62
        }
      ]
    },
    {
      "metadata": {
        "id": "8n579CCBbJU7",
        "colab_type": "code",
        "colab": {}
      },
      "cell_type": "code",
      "source": [
        "def number2_init(self, value):\n",
        "    self.value = value\n",
        "\n",
        "Number2 = type('Number2', (), {'__init__': number2_init})"
      ],
      "execution_count": 0,
      "outputs": []
    },
    {
      "metadata": {
        "id": "DN-HIgB8bJU9",
        "colab_type": "code",
        "colab": {}
      },
      "cell_type": "code",
      "source": [
        "n = Number2(10)"
      ],
      "execution_count": 0,
      "outputs": []
    },
    {
      "metadata": {
        "id": "GiR3bDzabJU_",
        "colab_type": "code",
        "colab": {}
      },
      "cell_type": "code",
      "source": [
        "class CustomMeta(type):\n",
        "    def __new__(cls, name, base, attrs):\n",
        "        \n",
        "        if attrs.get('some_attr') is None:\n",
        "            attrs['some_attr'] = 42\n",
        "        \n",
        "        return super().__new__(cls, name, base, attrs)"
      ],
      "execution_count": 0,
      "outputs": []
    },
    {
      "metadata": {
        "id": "ypHQ4ed8bJVA",
        "colab_type": "code",
        "colab": {}
      },
      "cell_type": "code",
      "source": [
        "class Number3(metaclass=CustomMeta):\n",
        "    def __init__(self, value):\n",
        "        self.value = value"
      ],
      "execution_count": 0,
      "outputs": []
    },
    {
      "metadata": {
        "id": "nouiwWEXbJVE",
        "colab_type": "code",
        "colab": {}
      },
      "cell_type": "code",
      "source": [
        "n = Number3(10)"
      ],
      "execution_count": 0,
      "outputs": []
    },
    {
      "metadata": {
        "id": "FSgQdTp1bJVN",
        "colab_type": "code",
        "colab": {}
      },
      "cell_type": "code",
      "source": [
        "n.some_attr"
      ],
      "execution_count": 0,
      "outputs": []
    },
    {
      "metadata": {
        "id": "s9m-JQZzbJVO",
        "colab_type": "code",
        "colab": {}
      },
      "cell_type": "code",
      "source": [
        ""
      ],
      "execution_count": 0,
      "outputs": []
    },
    {
      "metadata": {
        "id": "3BZf-C4VbJVP",
        "colab_type": "code",
        "colab": {}
      },
      "cell_type": "code",
      "source": [
        ""
      ],
      "execution_count": 0,
      "outputs": []
    },
    {
      "metadata": {
        "id": "hsKkhR3ebJVQ",
        "colab_type": "code",
        "colab": {}
      },
      "cell_type": "code",
      "source": [
        ""
      ],
      "execution_count": 0,
      "outputs": []
    },
    {
      "metadata": {
        "id": "lPv7Cln_bJVR",
        "colab_type": "code",
        "colab": {}
      },
      "cell_type": "code",
      "source": [
        ""
      ],
      "execution_count": 0,
      "outputs": []
    },
    {
      "metadata": {
        "id": "SpU93ysibJVU",
        "colab_type": "code",
        "colab": {}
      },
      "cell_type": "code",
      "source": [
        ""
      ],
      "execution_count": 0,
      "outputs": []
    },
    {
      "metadata": {
        "id": "5E-s16ZZbJVV",
        "colab_type": "code",
        "colab": {}
      },
      "cell_type": "code",
      "source": [
        ""
      ],
      "execution_count": 0,
      "outputs": []
    }
  ]
}